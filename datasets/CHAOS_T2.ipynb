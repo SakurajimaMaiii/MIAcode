{
 "cells": [
  {
   "cell_type": "markdown",
   "id": "rotary-korea",
   "metadata": {},
   "source": [
    "Convert ISBI_CHAOS_2019 MR T2.\n",
    "From dcm/png to nii.gz"
   ]
  },
  {
   "cell_type": "code",
   "execution_count": 47,
   "id": "accredited-forwarding",
   "metadata": {},
   "outputs": [
    {
     "name": "stdout",
     "output_type": "stream",
     "text": [
      "['1', '10', '13', '15', '19', '2', '20', '21', '22', '3', '31', '32', '33', '34', '36', '37', '38', '39', '5', '8']\n"
     ]
    }
   ],
   "source": [
    "import SimpleITK as sitk\n",
    "import numpy as np\n",
    "import os\n",
    "import glob\n",
    "from PIL import Image\n",
    "from utils import create_if_not\n",
    "\n",
    "data_dir = 'D:/Data/CHAOS_Train_Sets/Train_Sets/MR'\n",
    "outputs_dir = 'D:/Data/CHAOSt2'\n",
    "all_subs = os.listdir(data_dir)\n",
    "print(all_subs)\n",
    "create_if_not(outputs_dir)"
   ]
  },
  {
   "cell_type": "code",
   "execution_count": 48,
   "id": "optimum-narrative",
   "metadata": {},
   "outputs": [],
   "source": [
    "#Some functions\n",
    "import sys\n",
    "sys.path.append('../')\n",
    "from preprocess import read_nii,copy_geometry"
   ]
  },
  {
   "cell_type": "code",
   "execution_count": 49,
   "id": "valid-plasma",
   "metadata": {},
   "outputs": [
    {
     "name": "stdout",
     "output_type": "stream",
     "text": [
      "1 has saved\n",
      "2 has saved\n",
      "3 has saved\n",
      "4 has saved\n",
      "5 has saved\n",
      "6 has saved\n",
      "7 has saved\n",
      "8 has saved\n",
      "9 has saved\n",
      "10 has saved\n",
      "11 has saved\n",
      "12 has saved\n",
      "13 has saved\n",
      "14 has saved\n",
      "15 has saved\n",
      "16 has saved\n",
      "17 has saved\n",
      "18 has saved\n",
      "19 has saved\n",
      "20 has saved\n"
     ]
    }
   ],
   "source": [
    "for idx,sub in enumerate(all_subs):\n",
    "    img_path = os.path.join(data_dir,sub,'T2SPIR','DICOM_anon')\n",
    "    seg_path = os.path.join(data_dir,sub,'T2SPIR','Ground')\n",
    "    #for data\n",
    "    dcm_list = glob.glob(img_path+'/*.dcm')\n",
    "    dcm_list.sort()\n",
    "    new_data = []\n",
    "    for dcm_path in dcm_list:\n",
    "        img2d = read_nii(dcm_path)\n",
    "        new_data.append(img2d)\n",
    "    new_data = np.concatenate(new_data)\n",
    "    new_data = sitk.GetImageFromArray(new_data)\n",
    "    ref = sitk.ReadImage(dcm_path)\n",
    "    new_data = copy_geometry(new_data,ref)\n",
    "    #for label\n",
    "    png_list = glob.glob(seg_path+'/*.png')\n",
    "    png_list.sort()\n",
    "    new_seg = []\n",
    "    for png_path in png_list:\n",
    "        seg2d = Image.open(png_path)\n",
    "        seg2d = np.asarray(seg2d)\n",
    "        new_seg.append(seg2d)\n",
    "    new_seg = np.stack(new_seg)\n",
    "    new_seg = sitk.GetImageFromArray(new_seg)\n",
    "    new_seg = copy_geometry(new_seg,ref)\n",
    "    sitk.WriteImage(new_data,outputs_dir+'/image{}.nii.gz'.format(idx+1))\n",
    "    sitk.WriteImage(new_seg,outputs_dir+'/label{}.nii.gz'.format(idx+1))\n",
    "    print('{} has saved'.format(idx+1))\n",
    "    \n",
    "    "
   ]
  },
  {
   "cell_type": "code",
   "execution_count": null,
   "id": "ethical-separate",
   "metadata": {},
   "outputs": [],
   "source": []
  }
 ],
 "metadata": {
  "kernelspec": {
   "display_name": "Python 3",
   "language": "python",
   "name": "python3"
  },
  "language_info": {
   "codemirror_mode": {
    "name": "ipython",
    "version": 3
   },
   "file_extension": ".py",
   "mimetype": "text/x-python",
   "name": "python",
   "nbconvert_exporter": "python",
   "pygments_lexer": "ipython3",
   "version": "3.8.3"
  }
 },
 "nbformat": 4,
 "nbformat_minor": 5
}
